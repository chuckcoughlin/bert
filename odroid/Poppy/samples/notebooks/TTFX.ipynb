{
 "cells": [
  {
   "cell_type": "markdown",
   "metadata": {},
   "source": [
    "# Controler une créature Poppy"
   ]
  },
  {
   "cell_type": "markdown",
   "metadata": {},
   "source": [
    "Différentes créatures:\n",
    "* humanoid\n",
    "* torso\n",
    "* ergo\n",
    "* ..."
   ]
  },
  {
   "cell_type": "code",
   "execution_count": 1,
   "metadata": {
    "collapsed": false
   },
   "outputs": [
    {
     "name": "stderr",
     "output_type": "stream",
     "text": [
      "WARNING:pypot.robot.config:Limits of 'head_y' changed to [-40, 8]\n"
     ]
    }
   ],
   "source": [
    "from poppy.creatures import PoppyHumanoid\n",
    "\n",
    "poppy = PoppyHumanoid()"
   ]
  },
  {
   "cell_type": "markdown",
   "metadata": {},
   "source": [
    "On peut donner des positions de base:\n",
    "* debout\n",
    "* assis"
   ]
  },
  {
   "cell_type": "code",
   "execution_count": 2,
   "metadata": {
    "collapsed": false
   },
   "outputs": [],
   "source": [
    "poppy.stand_position.start()"
   ]
  },
  {
   "cell_type": "markdown",
   "metadata": {},
   "source": [
    "Les valeurs des moteurs hardware sont automatiquement synchronisées (à 50Hz) avec les valeurs de l'objet (R/W)."
   ]
  },
  {
   "cell_type": "markdown",
   "metadata": {},
   "source": [
    "On peut récupérer la liste des moteurs, lire les différents registres des servo-moteurs:"
   ]
  },
  {
   "cell_type": "code",
   "execution_count": 3,
   "metadata": {
    "collapsed": false
   },
   "outputs": [
    {
     "data": {
      "text/plain": [
       "[<DxlMotor name=abs_y id=31 pos=-1.98>,\n",
       " <DxlMotor name=abs_x id=32 pos=-0.22>,\n",
       " <DxlMotor name=abs_z id=33 pos=-0.31>,\n",
       " <DxlMotor name=bust_y id=34 pos=-0.57>,\n",
       " <DxlMotor name=bust_x id=35 pos=-0.13>,\n",
       " <DxlMotor name=head_z id=36 pos=-0.44>,\n",
       " <DxlMotor name=head_y id=37 pos=0.67>,\n",
       " <DxlMotor name=l_shoulder_y id=41 pos=9.21>,\n",
       " <DxlMotor name=l_shoulder_x id=42 pos=19.71>,\n",
       " <DxlMotor name=l_arm_z id=43 pos=0.04>,\n",
       " <DxlMotor name=l_elbow_y id=44 pos=-20.26>,\n",
       " <DxlMotor name=r_shoulder_y id=51 pos=10.18>,\n",
       " <DxlMotor name=r_shoulder_x id=52 pos=-20.33>,\n",
       " <DxlMotor name=r_arm_z id=53 pos=0.48>,\n",
       " <DxlMotor name=r_elbow_y id=54 pos=-20.0>,\n",
       " <DxlMotor name=l_hip_x id=11 pos=2.59>,\n",
       " <DxlMotor name=l_hip_z id=12 pos=2.51>,\n",
       " <DxlMotor name=l_hip_y id=13 pos=-0.46>,\n",
       " <DxlMotor name=l_knee_y id=14 pos=0.22>,\n",
       " <DxlMotor name=l_ankle_y id=15 pos=-6.46>,\n",
       " <DxlMotor name=r_hip_x id=21 pos=1.8>,\n",
       " <DxlMotor name=r_hip_z id=22 pos=-1.8>,\n",
       " <DxlMotor name=r_hip_y id=23 pos=1.01>,\n",
       " <DxlMotor name=r_knee_y id=24 pos=0.04>,\n",
       " <DxlMotor name=r_ankle_y id=25 pos=-7.69>]"
      ]
     },
     "execution_count": 3,
     "metadata": {},
     "output_type": "execute_result"
    }
   ],
   "source": [
    "poppy.motors"
   ]
  },
  {
   "cell_type": "code",
   "execution_count": 4,
   "metadata": {
    "collapsed": false
   },
   "outputs": [
    {
     "data": {
      "text/plain": [
       "-0.44"
      ]
     },
     "execution_count": 4,
     "metadata": {},
     "output_type": "execute_result"
    }
   ],
   "source": [
    "poppy.head_z.present_position"
   ]
  },
  {
   "cell_type": "code",
   "execution_count": 5,
   "metadata": {
    "collapsed": false
   },
   "outputs": [
    {
     "data": {
      "text/plain": [
       "0.0"
      ]
     },
     "execution_count": 5,
     "metadata": {},
     "output_type": "execute_result"
    }
   ],
   "source": [
    "poppy.head_z.present_load"
   ]
  },
  {
   "cell_type": "code",
   "execution_count": 6,
   "metadata": {
    "collapsed": false
   },
   "outputs": [
    {
     "data": {
      "text/plain": [
       "{u'abs_x': 0.13,\n",
       " u'abs_y': -1.98,\n",
       " u'abs_z': 0.04,\n",
       " u'bust_x': -0.04,\n",
       " u'bust_y': -0.57,\n",
       " u'head_y': 0.6700000000000017,\n",
       " u'head_z': 0.15,\n",
       " u'l_ankle_y': -6.99,\n",
       " u'l_arm_z': 0.04,\n",
       " u'l_elbow_y': -20.18,\n",
       " u'l_hip_x': 2.33,\n",
       " u'l_hip_y': -0.1100000000000001,\n",
       " u'l_hip_z': 2.42,\n",
       " u'l_knee_y': 0.66,\n",
       " u'l_shoulder_x': 19.89,\n",
       " u'l_shoulder_y': 9.739999999999995,\n",
       " u'r_ankle_y': -7.69,\n",
       " u'r_arm_z': 0.13,\n",
       " u'r_elbow_y': -20.0,\n",
       " u'r_hip_x': 1.71,\n",
       " u'r_hip_y': 0.57,\n",
       " u'r_hip_z': -1.8,\n",
       " u'r_knee_y': 0.84,\n",
       " u'r_shoulder_x': -20.33,\n",
       " u'r_shoulder_y': 10.090000000000003}"
      ]
     },
     "execution_count": 6,
     "metadata": {},
     "output_type": "execute_result"
    }
   ],
   "source": [
    "{m.name: m.present_position for m in poppy.motors}"
   ]
  },
  {
   "cell_type": "markdown",
   "metadata": {},
   "source": [
    "De la même manière on peut écrire dans ces registres:"
   ]
  },
  {
   "cell_type": "code",
   "execution_count": 7,
   "metadata": {
    "collapsed": false
   },
   "outputs": [],
   "source": [
    "poppy.head_z.goal_position = 30"
   ]
  },
  {
   "cell_type": "code",
   "execution_count": 8,
   "metadata": {
    "collapsed": false
   },
   "outputs": [],
   "source": [
    "poppy.head_z.goal_position = -30"
   ]
  },
  {
   "cell_type": "code",
   "execution_count": 9,
   "metadata": {
    "collapsed": false
   },
   "outputs": [],
   "source": [
    "import time\n",
    "\n",
    "from numpy import sin\n",
    "\n",
    "amp = 30\n",
    "freq = 0.5\n",
    "\n",
    "t0 = time.time()\n",
    "\n",
    "while time.time() - t0 < 10:\n",
    "    t = time.time()\n",
    "    pos = amp * sin(2 * 3.14 * freq * t)\n",
    "    \n",
    "    poppy.head_z.goal_position = pos\n",
    "    \n",
    "    time.sleep(0.02)"
   ]
  },
  {
   "cell_type": "markdown",
   "metadata": {},
   "source": [
    "## Primitives"
   ]
  },
  {
   "cell_type": "code",
   "execution_count": 10,
   "metadata": {
    "collapsed": false
   },
   "outputs": [],
   "source": [
    "from pypot.primitive.utils import Sinus\n",
    "\n",
    "s1 = Sinus(poppy, 50., [poppy.head_z, poppy.head_y], amp=20, freq=0.5)"
   ]
  },
  {
   "cell_type": "code",
   "execution_count": 11,
   "metadata": {
    "collapsed": false
   },
   "outputs": [],
   "source": [
    "s1.start()"
   ]
  },
  {
   "cell_type": "code",
   "execution_count": 12,
   "metadata": {
    "collapsed": false
   },
   "outputs": [],
   "source": [
    "s2 = Sinus(poppy, 50., [poppy.head_z, ], amp=5, freq=0.75)"
   ]
  },
  {
   "cell_type": "code",
   "execution_count": 13,
   "metadata": {
    "collapsed": false
   },
   "outputs": [],
   "source": [
    "s2.start()"
   ]
  },
  {
   "cell_type": "code",
   "execution_count": 14,
   "metadata": {
    "collapsed": false
   },
   "outputs": [],
   "source": [
    "pos = []\n",
    "\n",
    "t0 = time.time()\n",
    "while time.time() - t0 < 10:\n",
    "    pos.append(poppy.head_z.present_position)\n",
    "    time.sleep(0.1)\n",
    "    \n",
    "s1.stop()\n",
    "s2.stop()"
   ]
  },
  {
   "cell_type": "code",
   "execution_count": 16,
   "metadata": {
    "collapsed": false
   },
   "outputs": [
    {
     "name": "stdout",
     "output_type": "stream",
     "text": [
      "Populating the interactive namespace from numpy and matplotlib\n"
     ]
    },
    {
     "data": {
      "text/plain": [
       "[<matplotlib.lines.Line2D at 0xa9f95470>]"
      ]
     },
     "execution_count": 16,
     "metadata": {},
     "output_type": "execute_result"
    },
    {
     "data": {
      "image/png": "[encoded data removed]",
      "text/plain": [
       "<matplotlib.figure.Figure at 0xaa052d90>"
      ]
     },
     "metadata": {},
     "output_type": "display_data"
    }
   ],
   "source": [
    "%pylab inline\n",
    "\n",
    "plot(pos)"
   ]
  },
  {
   "cell_type": "markdown",
   "metadata": {},
   "source": [
    "## Pareil en V-REP"
   ]
  },
  {
   "cell_type": "markdown",
   "metadata": {},
   "source": [
    "http://localhost:8888/notebooks/Desktop/TTFX-VREP.ipynb"
   ]
  },
  {
   "cell_type": "markdown",
   "metadata": {},
   "source": [
    "## Utilisation de SNAP"
   ]
  },
  {
   "cell_type": "markdown",
   "metadata": {},
   "source": [
    "Via un serveur web et accès à travers une REST API."
   ]
  },
  {
   "cell_type": "code",
   "execution_count": 1,
   "metadata": {
    "collapsed": false
   },
   "outputs": [],
   "source": [
    "from poppy.creatures import PoppyHumanoid\n",
    "\n",
    "poppy = PoppyHumanoid(simulator='vrep')"
   ]
  },
  {
   "cell_type": "code",
   "execution_count": null,
   "metadata": {
    "collapsed": false
   },
   "outputs": [],
   "source": [
    "from pypot.server.snap import SnapRobotServer\n",
    "\n",
    "snap_server = SnapRobotServer(poppy, '0.0.0.0', 8080)\n",
    "snap_server.run()"
   ]
  },
  {
   "cell_type": "markdown",
   "metadata": {},
   "source": [
    "http://snap.berkeley.edu/snapsource/snap.html#open:http://poppy-humanoid.local:8080/snap-blocks.xml"
   ]
  },
  {
   "cell_type": "markdown",
   "metadata": {},
   "source": [
    "## Apprentissage autonome: [Explauto](https://github.com/flowersteam/explauto)"
   ]
  },
  {
   "cell_type": "code",
   "execution_count": 1,
   "metadata": {
    "collapsed": false
   },
   "outputs": [
    {
     "data": {
      "text/html": [
       "\n",
       "        <iframe\n",
       "            width=\"400\"\n",
       "            height=300\"\n",
       "            src=\"https://player.vimeo.com/video/95405850\"\n",
       "            frameborder=\"0\"\n",
       "            allowfullscreen\n",
       "        ></iframe>\n",
       "        "
      ],
      "text/plain": [
       "<IPython.lib.display.VimeoVideo at 0x108048a10>"
      ]
     },
     "execution_count": 1,
     "metadata": {},
     "output_type": "execute_result"
    }
   ],
   "source": [
    "from IPython.display import VimeoVideo\n",
    "\n",
    "VimeoVideo(95405850)"
   ]
  },
  {
   "cell_type": "code",
   "execution_count": null,
   "metadata": {
    "collapsed": false
   },
   "outputs": [],
   "source": []
  }
 ],
 "metadata": {
  "kernelspec": {
   "display_name": "Python 2",
   "language": "python",
   "name": "python2"
  },
  "language_info": {
   "codemirror_mode": {
    "name": "ipython",
    "version": 2
   },
   "file_extension": ".py",
   "mimetype": "text/x-python",
   "name": "python",
   "nbconvert_exporter": "python",
   "pygments_lexer": "ipython2",
   "version": "2.7.9"
  }
 },
 "nbformat": 4,
 "nbformat_minor": 0
}
