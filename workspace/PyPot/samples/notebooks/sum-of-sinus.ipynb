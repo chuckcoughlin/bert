{
 "metadata": {
  "name": "",
  "signature": "sha256:b0c3d5b1e224252a084a368e1eec8579db0889da6b38e5feeab39603ec211247"
 },
 "nbformat": 3,
 "nbformat_minor": 0,
 "worksheets": [
  {
   "cells": [
    {
     "cell_type": "code",
     "collapsed": false,
     "input": [
      "import pypot.dynamixel\n",
      "import pypot.robot"
     ],
     "language": "python",
     "metadata": {},
     "outputs": [],
     "prompt_number": 1
    },
    {
     "cell_type": "code",
     "collapsed": false,
     "input": [
      "ports = pypot.dynamixel.get_available_ports()\n",
      "print 'Found ports', ports\n",
      "port = ports[0]\n",
      "print 'Using', port"
     ],
     "language": "python",
     "metadata": {},
     "outputs": [
      {
       "output_type": "stream",
       "stream": "stdout",
       "text": [
        "Found ports ['/dev/ttyUSB0']\n",
        "Using /dev/ttyUSB0\n"
       ]
      }
     ],
     "prompt_number": 2
    },
    {
     "cell_type": "code",
     "collapsed": false,
     "input": [
      "io = pypot.dynamixel.DxlIO(port)"
     ],
     "language": "python",
     "metadata": {},
     "outputs": [],
     "prompt_number": 3
    },
    {
     "cell_type": "code",
     "collapsed": false,
     "input": [
      "ids = io.scan(range(40))\n",
      "print 'Found ids', ids"
     ],
     "language": "python",
     "metadata": {},
     "outputs": [
      {
       "output_type": "stream",
       "stream": "stdout",
       "text": [
        "Found ids [11, 36, 37]\n"
       ]
      }
     ],
     "prompt_number": 4
    },
    {
     "cell_type": "code",
     "collapsed": false,
     "input": [
      "motors = [pypot.dynamixel.motor.DxlMXMotor(id) for id in ids]\n",
      "motors"
     ],
     "language": "python",
     "metadata": {},
     "outputs": [
      {
       "metadata": {},
       "output_type": "pyout",
       "prompt_number": 5,
       "text": [
        "[<DxlMotor name=motor_11 id=11 pos=0.0>,\n",
        " <DxlMotor name=motor_36 id=36 pos=0.0>,\n",
        " <DxlMotor name=motor_37 id=37 pos=0.0>]"
       ]
      }
     ],
     "prompt_number": 5
    },
    {
     "cell_type": "code",
     "collapsed": false,
     "input": [
      "c = pypot.dynamixel.controller.BaseDxlController(io, motors)"
     ],
     "language": "python",
     "metadata": {},
     "outputs": [],
     "prompt_number": 6
    },
    {
     "cell_type": "code",
     "collapsed": false,
     "input": [
      "robot = pypot.robot.Robot([c])"
     ],
     "language": "python",
     "metadata": {},
     "outputs": [],
     "prompt_number": 7
    },
    {
     "cell_type": "code",
     "collapsed": false,
     "input": [
      "robot.start_sync()"
     ],
     "language": "python",
     "metadata": {},
     "outputs": [],
     "prompt_number": 8
    },
    {
     "cell_type": "code",
     "collapsed": false,
     "input": [
      "for m in robot.motors:\n",
      "    m.compliant = False\n",
      "    m.goal_position = 0"
     ],
     "language": "python",
     "metadata": {},
     "outputs": [],
     "prompt_number": 9
    },
    {
     "cell_type": "code",
     "collapsed": false,
     "input": [
      "from pypot.primitive.utils import Sinus"
     ],
     "language": "python",
     "metadata": {},
     "outputs": [],
     "prompt_number": 10
    },
    {
     "cell_type": "code",
     "collapsed": false,
     "input": [
      "s1 = Sinus(robot, 50, robot.motors, amp=30)\n",
      "s2 = Sinus(robot, 50, robot.motors, amp=5, freq=2)"
     ],
     "language": "python",
     "metadata": {},
     "outputs": [],
     "prompt_number": 11
    },
    {
     "cell_type": "code",
     "collapsed": false,
     "input": [
      "s1.start()"
     ],
     "language": "python",
     "metadata": {},
     "outputs": [],
     "prompt_number": 12
    },
    {
     "cell_type": "code",
     "collapsed": false,
     "input": [
      "%pylab inline\n",
      "\n",
      "import time\n",
      "\n",
      "pos = []\n",
      "\n",
      "start = time.time()\n",
      "while time.time() - start < 5:\n",
      "    pos.append(robot.motors[0].present_position)\n",
      "    time.sleep(0.02)\n",
      "    \n",
      "plot(linspace(0, 5, len(pos)), pos)"
     ],
     "language": "python",
     "metadata": {},
     "outputs": [
      {
       "output_type": "stream",
       "stream": "stdout",
       "text": [
        "Populating the interactive namespace from numpy and matplotlib\n"
       ]
      },
      {
       "metadata": {},
       "output_type": "pyout",
       "prompt_number": 13,
       "text": [
        "[<matplotlib.lines.Line2D at 0xa39fa0c>]"
       ]
      },
      {
       "metadata": {},
       "output_type": "display_data",
       "png": "[encoded data removed]",
       "text": [
        "<matplotlib.figure.Figure at 0x9bd68cc>"
       ]
      }
     ],
     "prompt_number": 13
    },
    {
     "cell_type": "code",
     "collapsed": false,
     "input": [
      "s2.start()"
     ],
     "language": "python",
     "metadata": {},
     "outputs": [],
     "prompt_number": 14
    },
    {
     "cell_type": "code",
     "collapsed": false,
     "input": [
      "import time\n",
      "\n",
      "pos = []\n",
      "\n",
      "start = time.time()\n",
      "while time.time() - start < 5:\n",
      "    pos.append(robot.motors[0].present_position)\n",
      "    time.sleep(0.02)\n",
      "    \n",
      "plot(linspace(0, 5, len(pos)), pos)"
     ],
     "language": "python",
     "metadata": {},
     "outputs": [
      {
       "metadata": {},
       "output_type": "pyout",
       "prompt_number": 15,
       "text": [
        "[<matplotlib.lines.Line2D at 0xa4fe50c>]"
       ]
      },
      {
       "metadata": {},
       "output_type": "display_data",
       "png": "[encoded data removed]",
       "text": [
        "<matplotlib.figure.Figure at 0x9bb920c>"
       ]
      }
     ],
     "prompt_number": 15
    },
    {
     "cell_type": "code",
     "collapsed": false,
     "input": [
      "s1.stop()"
     ],
     "language": "python",
     "metadata": {},
     "outputs": [],
     "prompt_number": 16
    },
    {
     "cell_type": "code",
     "collapsed": false,
     "input": [
      "import time\n",
      "\n",
      "pos = []\n",
      "\n",
      "start = time.time()\n",
      "while time.time() - start < 5:\n",
      "    pos.append(robot.motors[0].present_position)\n",
      "    time.sleep(0.02)\n",
      "    \n",
      "plot(linspace(0, 5, len(pos)), pos)"
     ],
     "language": "python",
     "metadata": {},
     "outputs": [
      {
       "metadata": {},
       "output_type": "pyout",
       "prompt_number": 17,
       "text": [
        "[<matplotlib.lines.Line2D at 0xa54d9ac>]"
       ]
      },
      {
       "metadata": {},
       "output_type": "display_data",
       "png": "[encoded data removed]",
       "text": [
        "<matplotlib.figure.Figure at 0xa5d560c>"
       ]
      }
     ],
     "prompt_number": 17
    },
    {
     "cell_type": "code",
     "collapsed": false,
     "input": [
      "s2.stop()"
     ],
     "language": "python",
     "metadata": {},
     "outputs": [],
     "prompt_number": 18
    },
    {
     "cell_type": "code",
     "collapsed": false,
     "input": [
      "import time\n",
      "\n",
      "pos = []\n",
      "\n",
      "s1.start()\n",
      "s2.start()\n",
      "start = time.time()\n",
      "while time.time() - start < 10:\n",
      "    pos.append(robot.motors[0].present_position)\n",
      "    time.sleep(0.02)\n",
      "    \n",
      "    if (3 < time.time() - start < 9):\n",
      "        s2.pause()\n",
      "    else:\n",
      "        s2.resume()\n",
      "    \n",
      "plot(linspace(0, 10, len(pos)), pos)\n",
      "\n",
      "s1.stop()\n",
      "s2.stop()"
     ],
     "language": "python",
     "metadata": {},
     "outputs": [
      {
       "metadata": {},
       "output_type": "display_data",
       "png": "[encoded data removed]",
       "text": [
        "<matplotlib.figure.Figure at 0x9bd61ac>"
       ]
      }
     ],
     "prompt_number": 19
    },
    {
     "cell_type": "code",
     "collapsed": false,
     "input": [],
     "language": "python",
     "metadata": {},
     "outputs": [],
     "prompt_number": 19
    },
    {
     "cell_type": "code",
     "collapsed": false,
     "input": [],
     "language": "python",
     "metadata": {},
     "outputs": []
    }
   ],
   "metadata": {}
  }
 ]
}